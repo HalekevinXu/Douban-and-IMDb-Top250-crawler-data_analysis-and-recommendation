{
 "cells": [
  {
   "cell_type": "code",
   "execution_count": null,
   "id": "2ecadc97",
   "metadata": {},
   "outputs": [],
   "source": [
    "import pandas as pd\n",
    "from pyecharts.charts import Bar\n",
    "from pyecharts import options as opts\n",
    "\n",
    "df = pd.read_csv('两榜电影类型平均评分.csv')\n",
    "# 过滤出两个榜单中都有的电影类型\n",
    "valid_genres = df['IMDb平均评分'].dropna().index\n",
    "df_filtered = df.loc[valid_genres]\n",
    "#豆瓣 vs IMDb电影评分比较柱状图\n",
    "bar1 = (\n",
    "    Bar(init_opts=opts.InitOpts(width=\"900px\", height=\"500px\", bg_color=\"white\"))\n",
    "    .add_xaxis(df_filtered['类型'].tolist())\n",
    "    .add_yaxis(\"豆瓣平均评分\", df_filtered['豆瓣平均评分'].round(2).tolist(), category_gap=\"60%\")\n",
    "    .add_yaxis(\"IMDb平均评分\", df_filtered['IMDb平均评分'].round(2).tolist(), category_gap=\"60%\")\n",
    "    .set_global_opts(\n",
    "        title_opts=opts.TitleOpts(title=\"豆瓣 vs IMDb: 电影类型平均评分比较\"),\n",
    "        xaxis_opts=opts.AxisOpts(axislabel_opts=opts.LabelOpts(rotate=15)),\n",
    "        yaxis_opts=opts.AxisOpts(name=\"平均评分\",min_=6),\n",
    "        legend_opts=opts.LegendOpts(pos_left=\"right\")\n",
    "    )\n",
    "    .set_series_opts(label_opts=opts.LabelOpts(is_show=False))\n",
    ")\n",
    "bar1.render_notebook()\n",
    "output_path = '豆瓣 vs IMDb电影评分比较.html'\n",
    "bar1.render(output_path)"
   ]
  }
 ],
 "metadata": {
  "kernelspec": {
   "display_name": "Python 3",
   "language": "python",
   "name": "python3"
  },
  "language_info": {
   "codemirror_mode": {
    "name": "ipython",
    "version": 3
   },
   "file_extension": ".py",
   "mimetype": "text/x-python",
   "name": "python",
   "nbconvert_exporter": "python",
   "pygments_lexer": "ipython3",
   "version": "3.13.5"
  }
 },
 "nbformat": 4,
 "nbformat_minor": 5
}
