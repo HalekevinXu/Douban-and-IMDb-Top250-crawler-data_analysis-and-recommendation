{
 "cells": [
  {
   "cell_type": "code",
   "execution_count": null,
   "id": "33bd4e81",
   "metadata": {},
   "outputs": [],
   "source": [
    "import pandas as pd\n",
    "import numpy as np\n",
    "from pyecharts.charts import Bar #生成图表的库 Bar创建柱状图\n",
    "from pyecharts import options as opts\n",
    "data = pd.read_csv('豆瓣电影.csv',encoding='gbk')\n",
    "\n",
    "data.isnull()  # 检查是否有缺失值\n",
    "data.drop([\"片长\"], axis=1, inplace=True)  # 删除无关特征‘片长’\n",
    "\n",
    "#简单的数据清洗，字段降序排序\n",
    "df5=data.sort_values(by = \"评论人数\",ascending = False)\n",
    "#print(df)\n",
    "bar1 = (\n",
    "    #创建柱图对象，并设置大小，也可以不设置，直接使用默认大小即可\n",
    "    Bar(init_opts=opts.InitOpts(width=\"900px\", height=\"500px\", bg_color=\"white\"))\n",
    "        #设置X轴数据系列，只取前10个数据，并转为列表格式\n",
    "        .add_xaxis(data.排名.tolist())\n",
    "        #设置Y轴数据系列及显示颜色，只取前10个数据，并转为列表格式\n",
    "        .add_yaxis(\"评论人数\", data.评论人数.tolist(),color = \"RGB(135, 206, 235)\",label_opts=opts.LabelOpts(is_show=False))\n",
    "        # 设置图表标题及位置 全局变量\n",
    "        .set_global_opts(title_opts=opts.TitleOpts(title=\"豆瓣电影Top250评价数\",pos_left=\"left\"),\n",
    "                         xaxis_opts=opts.AxisOpts( axislabel_opts={\"rotate\":30,\"interval\": 49}))\n",
    ")\n",
    "bar1.render_notebook()\n",
    "output_path = '豆瓣电影Top250评价数柱形图.html'\n",
    "bar1.render(output_path)"
   ]
  }
 ],
 "metadata": {
  "kernelspec": {
   "display_name": "Python 3",
   "language": "python",
   "name": "python3"
  },
  "language_info": {
   "codemirror_mode": {
    "name": "ipython",
    "version": 3
   },
   "file_extension": ".py",
   "mimetype": "text/x-python",
   "name": "python",
   "nbconvert_exporter": "python",
   "pygments_lexer": "ipython3",
   "version": "3.13.5"
  }
 },
 "nbformat": 4,
 "nbformat_minor": 5
}
