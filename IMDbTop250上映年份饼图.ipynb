{
 "cells": [
  {
   "cell_type": "code",
   "execution_count": null,
   "id": "2024f5ab",
   "metadata": {},
   "outputs": [],
   "source": [
    "import pandas as pd\n",
    "import numpy as np\n",
    "from pyecharts.charts import Pie  # 导入pie饼图\n",
    "from pyecharts import options as opts  # 导入配置项\n",
    "from pyecharts.globals import ThemeType  # 导入主题包\n",
    "data1 = pd.read_csv('imdb_top_250_纯中文.csv',encoding='gbk')\n",
    "\n",
    "data_year = data1['上映年份'].value_counts()\n",
    "name = data_year.index.tolist()\n",
    "value = data_year.tolist()\n",
    "data_pair1 = []\n",
    "for i in zip(name, value):\n",
    "    data_pair1.append(i)\n",
    "# print(data_pair6)\n",
    "\n",
    "pie = (\n",
    "    Pie(init_opts=opts.InitOpts(theme=ThemeType.DARK, width=\"900px\", height=\"600px\"))\n",
    "    .add(\n",
    "        series_name=\"IMDbTop250上映年份统计\", data_pair=data_pair1,\n",
    "        rosetype=\"radius\",#南汀格尔图\n",
    "        radius=[\"20%\", \"60%\"] #内外半径\n",
    "    )\n",
    "    #设置全局配置项\n",
    "    .set_global_opts(\n",
    "        # 修改标题\n",
    "        title_opts=opts.TitleOpts(title=\"IMDbTop250上映年份统计\"),\n",
    "        # 提示框配置项\n",
    "        tooltip_opts=opts.TooltipOpts(formatter=\"{b}:{c}部:{d}%\"),\n",
    "        # 图例配置项\n",
    "        legend_opts=opts.LegendOpts(pos_top=\"50px\", is_show=False)\n",
    "    )\n",
    "    # 系列配置项\n",
    "    .set_series_opts(label_opts=opts.LabelOpts(formatter=\"{b}:{d}%\"))\n",
    ")\n",
    "pie.render_notebook()\n",
    "output_path = 'IMDbTop250上映年份饼图.html'\n",
    "pie.render(output_path)\n"
   ]
  }
 ],
 "metadata": {
  "kernelspec": {
   "display_name": "Python 3",
   "language": "python",
   "name": "python3"
  },
  "language_info": {
   "codemirror_mode": {
    "name": "ipython",
    "version": 3
   },
   "file_extension": ".py",
   "mimetype": "text/x-python",
   "name": "python",
   "nbconvert_exporter": "python",
   "pygments_lexer": "ipython3",
   "version": "3.13.5"
  }
 },
 "nbformat": 4,
 "nbformat_minor": 5
}
