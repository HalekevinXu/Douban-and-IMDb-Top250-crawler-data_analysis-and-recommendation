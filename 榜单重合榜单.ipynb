{
 "cells": [
  {
   "cell_type": "code",
   "execution_count": null,
   "id": "0a714a7e",
   "metadata": {},
   "outputs": [],
   "source": [
    "from pyecharts.charts import Pie\n",
    "from pyecharts import options as opts\n",
    "import pandas as pd\n",
    "import numpy as np\n",
    "import csv\n",
    "\n",
    "data1 = pd.read_csv('豆瓣电影.csv',encoding='gbk')\n",
    "data2 = pd.read_csv('imdb_top_250_纯中文.csv',encoding='gbk')\n",
    "data_db = data1['电影名称'].tolist()\n",
    "data_im = data2['电影名称'].tolist()\n",
    "# print(same,db_in,im_in)\n",
    "# 创建CSV文件\n",
    "output_path = '榜单重合的电影.csv'\n",
    "with open(output_path, 'w', encoding='utf-8', newline='') as f:\n",
    "    csvwriter = csv.writer(f)\n",
    "    csvwriter.writerow(('电影名称','排名差（豆瓣-IMDb）'))\n",
    "    sum=0\n",
    "    for i in data_db:\n",
    "        sum+=1\n",
    "        if i in data_im:\n",
    "            for j in range(0,250): \n",
    "                if i==data_im[j]:\n",
    "                    break\n",
    "            csvwriter.writerow([i,sum-j-1])\n",
    "            f.flush()"
   ]
  }
 ],
 "metadata": {
  "kernelspec": {
   "display_name": "Python 3",
   "language": "python",
   "name": "python3"
  },
  "language_info": {
   "codemirror_mode": {
    "name": "ipython",
    "version": 3
   },
   "file_extension": ".py",
   "mimetype": "text/x-python",
   "name": "python",
   "nbconvert_exporter": "python",
   "pygments_lexer": "ipython3",
   "version": "3.13.5"
  }
 },
 "nbformat": 4,
 "nbformat_minor": 5
}
